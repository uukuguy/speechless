{
 "cells": [
  {
   "attachments": {},
   "cell_type": "markdown",
   "id": "7e9877d2",
   "metadata": {},
   "source": [
    "# MultiPL-E Synthetic Solutions\n",
    "\n",
    "This notebook builds a dataset of solutions to HumanEval and MBPP in all the\n",
    "MultiPL-E languages and uploads it to the Hugging Face Hub."
   ]
  },
  {
   "cell_type": "code",
   "execution_count": 1,
   "id": "2634d55c-32a3-4173-b51e-43941992efd6",
   "metadata": {},
   "outputs": [],
   "source": [
    "from pathlib import Path\n",
    "import gzip\n",
    "import json\n",
    "from typing import Optional, List, Dict\n",
    "import datasets\n",
    "import pandas as pd"
   ]
  },
  {
   "cell_type": "code",
   "execution_count": 2,
   "id": "9505c925",
   "metadata": {},
   "outputs": [],
   "source": [
    "def gunzip_json(path: Path) -> Optional[Dict]:\n",
    "    \"\"\"\n",
    "    Reads a .json.gz file, and produces None if any error occured.\n",
    "    \"\"\"\n",
    "    try:\n",
    "        with gzip.open(path, \"rt\") as f:\n",
    "            return json.load(f)\n",
    "    except Exception as e:\n",
    "        return None\n",
    "\n",
    "\n",
    "def find_working_solution(results_path):\n",
    "    \"\"\"\n",
    "    Find the index of the first working solution.\n",
    "    \n",
    "    results_path ends .results.json.gz\n",
    "    \"\"\"\n",
    "    results = gunzip_json(results_path)\n",
    "    if results is None:\n",
    "        return None\n",
    "    for i, result in enumerate(results[\"results\"]):\n",
    "        if result[\"status\"] == \"OK\":\n",
    "            completions_name = results_path.name[:-len(\".results.json.gz\")] + \".json.gz\"\n",
    "            completions_path = results_path.parent / completions_name\n",
    "            completions = gunzip_json(completions_path)\n",
    "            if completions is None:\n",
    "                return None\n",
    "            return {\n",
    "                \"name\": completions[\"name\"],\n",
    "                \"language\": completions[\"language\"],\n",
    "                \"prompt\": completions[\"prompt\"],\n",
    "                \"solution\": completions[\"completions\"][i]\n",
    "            }\n",
    "    return None\n",
    "\n",
    "def gather_benchmarks(root: Path, solutions_glob = \"*-*-davinci-0.8-reworded\"):\n",
    "    results = [ ]\n",
    "    for lang_root in root.glob(solutions_glob):\n",
    "        for results_path in lang_root.glob(\"*.results.json.gz\"):\n",
    "            solution = find_working_solution(results_path)\n",
    "            if solution is None:\n",
    "                continue\n",
    "            results.append(solution)\n",
    "    return results"
   ]
  },
  {
   "attachments": {},
   "cell_type": "markdown",
   "id": "9a6f1507",
   "metadata": {},
   "source": [
    "Change the directory below if needed. You can also add the `solutions_glob` argument to `gather_benchmarks`."
   ]
  },
  {
   "cell_type": "code",
   "execution_count": 3,
   "id": "fd05f35a",
   "metadata": {},
   "outputs": [
    {
     "data": {
      "text/html": [
       "<div>\n",
       "<style scoped>\n",
       "    .dataframe tbody tr th:only-of-type {\n",
       "        vertical-align: middle;\n",
       "    }\n",
       "\n",
       "    .dataframe tbody tr th {\n",
       "        vertical-align: top;\n",
       "    }\n",
       "\n",
       "    .dataframe thead th {\n",
       "        text-align: right;\n",
       "    }\n",
       "</style>\n",
       "<table border=\"1\" class=\"dataframe\">\n",
       "  <thead>\n",
       "    <tr style=\"text-align: right;\">\n",
       "      <th></th>\n",
       "      <th>name</th>\n",
       "    </tr>\n",
       "    <tr>\n",
       "      <th>language</th>\n",
       "      <th></th>\n",
       "    </tr>\n",
       "  </thead>\n",
       "  <tbody>\n",
       "    <tr>\n",
       "      <th>cpp</th>\n",
       "      <td>145</td>\n",
       "    </tr>\n",
       "    <tr>\n",
       "      <th>cs</th>\n",
       "      <td>101</td>\n",
       "    </tr>\n",
       "    <tr>\n",
       "      <th>d</th>\n",
       "      <td>107</td>\n",
       "    </tr>\n",
       "    <tr>\n",
       "      <th>go_test.go</th>\n",
       "      <td>135</td>\n",
       "    </tr>\n",
       "    <tr>\n",
       "      <th>java</th>\n",
       "      <td>137</td>\n",
       "    </tr>\n",
       "    <tr>\n",
       "      <th>jl</th>\n",
       "      <td>136</td>\n",
       "    </tr>\n",
       "    <tr>\n",
       "      <th>js</th>\n",
       "      <td>154</td>\n",
       "    </tr>\n",
       "    <tr>\n",
       "      <th>lua</th>\n",
       "      <td>151</td>\n",
       "    </tr>\n",
       "    <tr>\n",
       "      <th>php</th>\n",
       "      <td>151</td>\n",
       "    </tr>\n",
       "    <tr>\n",
       "      <th>pl</th>\n",
       "      <td>146</td>\n",
       "    </tr>\n",
       "    <tr>\n",
       "      <th>py</th>\n",
       "      <td>153</td>\n",
       "    </tr>\n",
       "    <tr>\n",
       "      <th>r</th>\n",
       "      <td>135</td>\n",
       "    </tr>\n",
       "    <tr>\n",
       "      <th>rb</th>\n",
       "      <td>150</td>\n",
       "    </tr>\n",
       "    <tr>\n",
       "      <th>rkt</th>\n",
       "      <td>117</td>\n",
       "    </tr>\n",
       "    <tr>\n",
       "      <th>rs</th>\n",
       "      <td>142</td>\n",
       "    </tr>\n",
       "    <tr>\n",
       "      <th>scala</th>\n",
       "      <td>142</td>\n",
       "    </tr>\n",
       "    <tr>\n",
       "      <th>sh</th>\n",
       "      <td>132</td>\n",
       "    </tr>\n",
       "    <tr>\n",
       "      <th>swift</th>\n",
       "      <td>139</td>\n",
       "    </tr>\n",
       "    <tr>\n",
       "      <th>ts</th>\n",
       "      <td>151</td>\n",
       "    </tr>\n",
       "  </tbody>\n",
       "</table>\n",
       "</div>"
      ],
      "text/plain": [
       "            name\n",
       "language        \n",
       "cpp          145\n",
       "cs           101\n",
       "d            107\n",
       "go_test.go   135\n",
       "java         137\n",
       "jl           136\n",
       "js           154\n",
       "lua          151\n",
       "php          151\n",
       "pl           146\n",
       "py           153\n",
       "r            135\n",
       "rb           150\n",
       "rkt          117\n",
       "rs           142\n",
       "scala        142\n",
       "sh           132\n",
       "swift        139\n",
       "ts           151"
      ]
     },
     "execution_count": 3,
     "metadata": {},
     "output_type": "execute_result"
    }
   ],
   "source": [
    "results = gather_benchmarks(Path(\"/work/arjunguha-research-group/arjun/repos/hfdatasets/nuprl/MultiPL-E-raw-data\"))\n",
    "results_df = pd.DataFrame(results)\n",
    "results_df[[\"name\", \"language\"]].groupby(\"language\").count()"
   ]
  },
  {
   "attachments": {},
   "cell_type": "markdown",
   "id": "62079873",
   "metadata": {},
   "source": [
    "Build the dataset and push to the hub. Sadly, this doesn't work on Discovery."
   ]
  },
  {
   "cell_type": "code",
   "execution_count": 4,
   "id": "9149fb5d",
   "metadata": {},
   "outputs": [],
   "source": [
    "datasets.Dataset.from_list(results).push_to_hub(\"nuprl/MultiPL-E-synthetic-solutions\")"
   ]
  },
  {
   "attachments": {},
   "cell_type": "markdown",
   "id": "6c2d6db7",
   "metadata": {},
   "source": [
    "Alternatively, save the dataset to disk on Discovery, then run the next cell on another machine to push to the Hub."
   ]
  },
  {
   "cell_type": "code",
   "execution_count": null,
   "id": "f647f230",
   "metadata": {},
   "outputs": [],
   "source": [
    "datasets.Dataset.from_list(results).save_to_disk(\"./dataset\")"
   ]
  },
  {
   "cell_type": "code",
   "execution_count": 2,
   "id": "19e26c2f",
   "metadata": {},
   "outputs": [],
   "source": [
    "datasets.Dataset.load_from_disk(\"./dataset\").push_to_hub(\"nuprl/MultiPL-E-synthetic-solutions\")"
   ]
  }
 ],
 "metadata": {
  "kernelspec": {
   "display_name": "venv",
   "language": "python",
   "name": "python3"
  },
  "language_info": {
   "codemirror_mode": {
    "name": "ipython",
    "version": 3
   },
   "file_extension": ".py",
   "mimetype": "text/x-python",
   "name": "python",
   "nbconvert_exporter": "python",
   "pygments_lexer": "ipython3",
   "version": "3.10.6"
  },
  "vscode": {
   "interpreter": {
    "hash": "4b195c9ba378eb519b14e7f259b82f2dffeee53eaf931c5b8aa204642c58cd1a"
   }
  }
 },
 "nbformat": 4,
 "nbformat_minor": 5
}
