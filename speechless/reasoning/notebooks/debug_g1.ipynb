{
 "cells": [
  {
   "cell_type": "markdown",
   "metadata": {},
   "source": [
    "# Debug g1\n",
    "\n",
    "https://github.com/bklieger-groq/g1.git"
   ]
  },
  {
   "cell_type": "code",
   "execution_count": 87,
   "metadata": {},
   "outputs": [],
   "source": [
    "import os, time, json"
   ]
  },
  {
   "cell_type": "code",
   "execution_count": 88,
   "metadata": {},
   "outputs": [],
   "source": [
    "import os\n",
    "from openai import OpenAI\n",
    "# closeai\n",
    "# os.environ[\"OPENAI_BASE_URL\"] = \"https://api.openai-proxy.org/v1\"\n",
    "# os.environ[\"OPENAI_API_KEY\"] = \"sk-P3CPqpvL2jeUId7U1PbV7fV9J4RTqQYkZRaRu9wSyL9afpx3\"\n",
    "# os.environ[\"OPENAI_DEFAULT_MODEL\"] = \"gpt-4o-mini\"\n",
    "\n",
    "os.environ[\"OPENAI_BASE_URL\"] = \"http://localhost:10098/v1\"\n",
    "os.environ[\"OPENAI_API_KEY\"] = \"sk-not-needed\"\n",
    "os.environ[\"OPENAI_DEFAULT_MODEL\"] = \"default\"\n",
    "\n",
    "OPENAI_BASE_URL=os.environ.get(\"OPENAI_BASE_URL\")\n",
    "OPENAI_API_KEY=os.environ.get(\"OPENAI_API_KEY\")\n",
    "OPENAI_DEFAULT_MODEL=os.environ.get(\"OPENAI_DEFAULT_MODEL\")\n",
    "client = OpenAI(api_key=OPENAI_API_KEY, base_url=OPENAI_BASE_URL)"
   ]
  },
  {
   "cell_type": "code",
   "execution_count": 89,
   "metadata": {},
   "outputs": [
    {
     "data": {
      "text/plain": [
       "'sk-not-needed'"
      ]
     },
     "execution_count": 89,
     "metadata": {},
     "output_type": "execute_result"
    }
   ],
   "source": [
    "OPENAI_API_KEY"
   ]
  },
  {
   "cell_type": "code",
   "execution_count": 90,
   "metadata": {},
   "outputs": [],
   "source": [
    "import rich\n",
    "from rich.console import Console\n",
    "from rich.markdown import Markdown\n",
    "console = Console()\n",
    "def print(msg):\n",
    "    console.print(Markdown(msg))"
   ]
  },
  {
   "cell_type": "code",
   "execution_count": 98,
   "metadata": {},
   "outputs": [],
   "source": [
    "\n",
    "def make_api_call(messages, max_tokens, is_final_answer=False, custom_client=None):\n",
    "    global client\n",
    "    if custom_client != None:\n",
    "        client = custom_client\n",
    "    \n",
    "    for attempt in range(3):\n",
    "        try:\n",
    "            if is_final_answer:\n",
    "                response = client.chat.completions.create(\n",
    "                    model=OPENAI_DEFAULT_MODEL,\n",
    "                    messages=messages,\n",
    "                    max_tokens=max_tokens,\n",
    "                    temperature=0.2,\n",
    "            ) \n",
    "                print(f\"final {response=}\")\n",
    "                return response.choices[0].message.content\n",
    "            else:\n",
    "                response = client.chat.completions.create(\n",
    "                    model=OPENAI_DEFAULT_MODEL,\n",
    "                    messages=messages,\n",
    "                    max_tokens=max_tokens,\n",
    "                    temperature=0.2,\n",
    "                    # response_format={\"type\": \"json_object\"}\n",
    "                )\n",
    "                print(f\"{response=}\")\n",
    "                return json.loads(response.choices[0].message.content)\n",
    "        except Exception as e:\n",
    "            if attempt == 2:\n",
    "                if is_final_answer:\n",
    "                    return {\"title\": \"Error\", \"content\": f\"Failed to generate final answer after 3 attempts. Error: {str(e)}\"}\n",
    "                else:\n",
    "                    return {\"title\": \"Error\", \"content\": f\"Failed to generate step after 3 attempts. Error: {str(e)}\", \"next_action\": \"final_answer\"}\n",
    "            time.sleep(1)  # Wait for 1 second before retrying\n",
    "\n",
    "def generate_response(prompt, custom_client=None):\n",
    "    messages = [\n",
    "        {\"role\": \"system\", \"content\": \"\"\"You are an expert AI assistant that explains your reasoning step by step. For each step, provide a title that describes what you're doing in that step, along with the content. Decide if you need another step or if you're ready to give the final answer. Respond in Markdown JSON format with 'title', 'content', and 'next_action' (either 'continue' or 'final_answer') keys. USE AS MANY REASONING STEPS AS POSSIBLE. AT LEAST 3. BE AWARE OF YOUR LIMITATIONS AS AN LLM AND WHAT YOU CAN AND CANNOT DO. IN YOUR REASONING, INCLUDE EXPLORATION OF ALTERNATIVE ANSWERS. CONSIDER YOU MAY BE WRONG, AND IF YOU ARE WRONG IN YOUR REASONING, WHERE IT WOULD BE. FULLY TEST ALL OTHER POSSIBILITIES. YOU CAN BE WRONG. WHEN YOU SAY YOU ARE RE-EXAMINING, ACTUALLY RE-EXAMINE, AND USE ANOTHER APPROACH TO DO SO. DO NOT JUST SAY YOU ARE RE-EXAMINING. USE AT LEAST 3 METHODS TO DERIVE THE ANSWER. USE BEST PRACTICES.\n",
    "\n",
    "Example of a valid JSON response:\n",
    "```json\n",
    "{\n",
    "    \"title\": \"Identifying Key Information\",\n",
    "    \"content\": \"To begin solving this problem, we need to carefully examine the given information and identify the crucial elements that will guide our solution process. This involves...\",\n",
    "    \"next_action\": \"continue\"\n",
    "}```\n",
    "\"\"\"},\n",
    "        {\"role\": \"user\", \"content\": prompt},\n",
    "        {\"role\": \"assistant\", \"content\": \"Thank you! I will now think step by step following my instructions, starting at the beginning after decomposing the problem.\"}\n",
    "    ]\n",
    "    \n",
    "    steps = []\n",
    "    step_count = 1\n",
    "    total_thinking_time = 0\n",
    "    \n",
    "    while True:\n",
    "        start_time = time.time()\n",
    "        step_data = make_api_call(messages, 500, custom_client=custom_client)\n",
    "        end_time = time.time()\n",
    "        thinking_time = end_time - start_time\n",
    "        total_thinking_time += thinking_time\n",
    "        \n",
    "        steps.append((f\"Step {step_count}: {step_data['title']}\", step_data['content'], thinking_time))\n",
    "        \n",
    "        messages.append({\"role\": \"assistant\", \"content\": json.dumps(step_data)})\n",
    "        \n",
    "        if step_data['next_action'] == 'final_answer' or step_count > 25: # Maximum of 25 steps to prevent infinite thinking time. Can be adjusted.\n",
    "            break\n",
    "        \n",
    "        step_count += 1\n",
    "\n",
    "        # Yield after each step for Streamlit to update\n",
    "        yield steps, None  # We're not yielding the total time until the end\n",
    "\n",
    "    # Generate final answer\n",
    "    messages.append({\"role\": \"user\", \"content\": \"Please provide the final answer based solely on your reasoning above. Do not use JSON formatting. Only provide the text response without any titles or preambles. Retain any formatting as instructed by the original prompt, such as exact formatting for free response or multiple choice.\"})\n",
    "    \n",
    "    start_time = time.time()\n",
    "    final_data = make_api_call(messages, 1200, is_final_answer=True, custom_client=custom_client)\n",
    "    end_time = time.time()\n",
    "    thinking_time = end_time - start_time\n",
    "    total_thinking_time += thinking_time\n",
    "    \n",
    "    steps.append((\"Final Answer\", final_data, thinking_time))\n",
    "\n",
    "    yield steps, total_thinking_time\n"
   ]
  },
  {
   "cell_type": "code",
   "execution_count": null,
   "metadata": {},
   "outputs": [],
   "source": []
  },
  {
   "cell_type": "code",
   "execution_count": 99,
   "metadata": {},
   "outputs": [
    {
     "data": {
      "text/html": [
       "<pre style=\"white-space:pre;overflow-x:auto;line-height:normal;font-family:Menlo,'DejaVu Sans Mono',consolas,'Courier New',monospace\">response=ChatCompletion(id='chatcmpl-SGnI8hUcYoKZv4wG6dn9uUqVR8V1nJ3F', choices=[Choice(finish_reason='stop',      \n",
       "index=0, logprobs=None, message=ChatCompletionMessage(content='<span style=\"color: #008080; text-decoration-color: #008080; background-color: #000000; font-weight: bold\">json\\n{\\n    \"title\": \"Counting Letters in a </span>       \n",
       "<span style=\"color: #008080; text-decoration-color: #008080; background-color: #000000; font-weight: bold\">Word\",\\n    \"content\": \"To determine the number of \\'r\\' letters in the word \\'strawberry\\', we will perform a </span>    \n",
       "<span style=\"color: #008080; text-decoration-color: #008080; background-color: #000000; font-weight: bold\">simple letter-by-letter analysis of the word. This involves scanning through each letter and counting instances of </span>\n",
       "<span style=\"color: #008080; text-decoration-color: #008080; background-color: #000000; font-weight: bold\">the letter \\'r\\'. The word \\'strawberry\\' is spelled as follows: s-t-r-a-w-b-e-r-r-y.\",\\n    \"next_action\": </span>       \n",
       "<span style=\"color: #008080; text-decoration-color: #008080; background-color: #000000; font-weight: bold\">\"continue\"\\n}</span>\\n\\n<span style=\"color: #008080; text-decoration-color: #008080; background-color: #000000; font-weight: bold\">json\\n{\\n    \"title\": \"Identifying the Letter \\'r\\' Instances\",\\n    \"content\": \"Upon scanning the</span>\n",
       "<span style=\"color: #008080; text-decoration-color: #008080; background-color: #000000; font-weight: bold\">word \\'strawberry\\', we identify the following instances of the letter \\'r\\': the second position (2nd \\'r\\'), and </span>\n",
       "<span style=\"color: #008080; text-decoration-color: #008080; background-color: #000000; font-weight: bold\">the sixth position (6th \\'r\\').\",\\n    \"next_action\": \"continue\"\\n}</span>\\n\\n<span style=\"color: #008080; text-decoration-color: #008080; background-color: #000000; font-weight: bold\">json\\n{\\n    \"title\": \"Tallying the \\'r\\' </span>  \n",
       "<span style=\"color: #008080; text-decoration-color: #008080; background-color: #000000; font-weight: bold\">Letters\",\\n    \"content\": \"By counting the identified instances of the letter \\'r\\' in \\'strawberry\\', we find </span>    \n",
       "<span style=\"color: #008080; text-decoration-color: #008080; background-color: #000000; font-weight: bold\">there are a total of 2 occurrences of the letter \\'r\\'.\",\\n    \"next_action\": \"final_answer\"\\n}</span>\\n\\n<span style=\"color: #008080; text-decoration-color: #008080; background-color: #000000; font-weight: bold\">json\\n{\\n    </span>   \n",
       "<span style=\"color: #008080; text-decoration-color: #008080; background-color: #000000; font-weight: bold\">\"title\": \"Final Answer\",\\n    \"content\": \"There are 2 letter \\'r\\'s in the word \\'strawberry\\'.\",\\n    </span>            \n",
       "<span style=\"color: #008080; text-decoration-color: #008080; background-color: #000000; font-weight: bold\">\"next_action\": \"final_answer\"\\n}</span>\\n\\nI have now provided a detailed, step-by-step explanation in JSON format, which \n",
       "concludes with the final answer. The reasoning involved scanning the word, identifying the letter 'r', counting its\n",
       "occurrences, and then stating the final result. This process ensures accuracy and clarity in reaching the          \n",
       "conclusion.&lt;|end|&gt;', refusal=None, role='assistant', function_call=None, tool_calls=None))], created=1727590566,   \n",
       "model='default', object='chat.completion', service_tier=None, system_fingerprint=None,                             \n",
       "usage=CompletionUsage(completion_tokens=402, prompt_tokens=459, total_tokens=861))                                 \n",
       "</pre>\n"
      ],
      "text/plain": [
       "response=ChatCompletion(id='chatcmpl-SGnI8hUcYoKZv4wG6dn9uUqVR8V1nJ3F', choices=[Choice(finish_reason='stop',      \n",
       "index=0, logprobs=None, message=ChatCompletionMessage(content='\u001b[1;36;40mjson\\n{\\n    \"title\": \"Counting Letters in a \u001b[0m       \n",
       "\u001b[1;36;40mWord\",\\n    \"content\": \"To determine the number of \\'r\\' letters in the word \\'strawberry\\', we will perform a \u001b[0m    \n",
       "\u001b[1;36;40msimple letter-by-letter analysis of the word. This involves scanning through each letter and counting instances of \u001b[0m\n",
       "\u001b[1;36;40mthe letter \\'r\\'. The word \\'strawberry\\' is spelled as follows: s-t-r-a-w-b-e-r-r-y.\",\\n    \"next_action\": \u001b[0m       \n",
       "\u001b[1;36;40m\"continue\"\\n}\u001b[0m\\n\\n\u001b[1;36;40mjson\\n{\\n    \"title\": \"Identifying the Letter \\'r\\' Instances\",\\n    \"content\": \"Upon scanning the\u001b[0m\n",
       "\u001b[1;36;40mword \\'strawberry\\', we identify the following instances of the letter \\'r\\': the second position (2nd \\'r\\'), and \u001b[0m\n",
       "\u001b[1;36;40mthe sixth position (6th \\'r\\').\",\\n    \"next_action\": \"continue\"\\n}\u001b[0m\\n\\n\u001b[1;36;40mjson\\n{\\n    \"title\": \"Tallying the \\'r\\' \u001b[0m  \n",
       "\u001b[1;36;40mLetters\",\\n    \"content\": \"By counting the identified instances of the letter \\'r\\' in \\'strawberry\\', we find \u001b[0m    \n",
       "\u001b[1;36;40mthere are a total of 2 occurrences of the letter \\'r\\'.\",\\n    \"next_action\": \"final_answer\"\\n}\u001b[0m\\n\\n\u001b[1;36;40mjson\\n{\\n    \u001b[0m   \n",
       "\u001b[1;36;40m\"title\": \"Final Answer\",\\n    \"content\": \"There are 2 letter \\'r\\'s in the word \\'strawberry\\'.\",\\n    \u001b[0m            \n",
       "\u001b[1;36;40m\"next_action\": \"final_answer\"\\n}\u001b[0m\\n\\nI have now provided a detailed, step-by-step explanation in JSON format, which \n",
       "concludes with the final answer. The reasoning involved scanning the word, identifying the letter 'r', counting its\n",
       "occurrences, and then stating the final result. This process ensures accuracy and clarity in reaching the          \n",
       "conclusion.<|end|>', refusal=None, role='assistant', function_call=None, tool_calls=None))], created=1727590566,   \n",
       "model='default', object='chat.completion', service_tier=None, system_fingerprint=None,                             \n",
       "usage=CompletionUsage(completion_tokens=402, prompt_tokens=459, total_tokens=861))                                 \n"
      ]
     },
     "metadata": {},
     "output_type": "display_data"
    },
    {
     "data": {
      "text/html": [
       "<pre style=\"white-space:pre;overflow-x:auto;line-height:normal;font-family:Menlo,'DejaVu Sans Mono',consolas,'Courier New',monospace\">response=ChatCompletion(id='chatcmpl-VrrLFZnIWip1j2SbDo2ZnOs3NzzepjMA', choices=[Choice(finish_reason='stop',      \n",
       "index=0, logprobs=None, message=ChatCompletionMessage(content='### Title: Counting the Occurrences of 'r' in       \n",
       "'strawberry'\\n\\n#### Step 1: Identify the Target Word\\nThe target word for our analysis is 'strawberry'. This is   \n",
       "the word we will examine to determine the frequency of the letter 'r'.\\n\\n#### Step 2: Understand the Task\\nOur    \n",
       "task is to count how many times the letter 'r' appears in the word 'strawberry'. This is a simple character        \n",
       "frequency task within a given string of text.\\n\\n#### Step 3: Analyze the Word\\nWe will go through each letter in  \n",
       "'strawberry' one by one to see if it matches the target letter 'r'.\\n\\n#### Step 4: Count the Occurrences\\n- The   \n",
       "first letter is 's'. Not 'r', so we move to the next letter.\\n- The second letter is 't'. Not 'r', so we           \n",
       "continue.\\n- The third letter is 'r'. This matches our target letter, so we count one occurrence.\\n- The fourth    \n",
       "letter is 'a'. Not 'r', so we proceed.\\n- The fifth letter is 'w'. Not 'r', so we keep going.\\n- The sixth letter  \n",
       "is 'r'. Here we have another 'r', which adds to our count, making it two occurrences so far.\\n- The seventh letter \n",
       "is 'r' again. This is our third 'r', bringing the total count to three.\\n- The eighth letter is 'b'. Not 'r', so we\n",
       "continue.\\n- The ninth letter is 'e'. Not 'r', so we move forward.\\n- The tenth letter is 'r'. This is the fourth  \n",
       "occurrence of 'r' in the word.\\n\\n#### Step 5: Summarize the Findings\\nAfter analyzing each letter in 'strawberry',\n",
       "we have found that the letter 'r' appears four times within the word.\\n\\n#### Next Action\\nSince we have reached a \n",
       "conclusion, there is no need for further steps.\\n\\n#### Final Answer\\nThe word 'strawberry' contains four instances\n",
       "of the letter 'r'.\\n\\n```json\\n{\\n    \"title\": \"Counting the Occurrences of 'r' in 'strawberry'\",\\n    \"content\":  \n",
       "\"After analyzing each letter in 'straw', refusal=None, role='assistant', function_call=None, tool_calls=None))],   \n",
       "created=1727590579, model='default', object='chat.completion', service_tier=None, system_fingerprint=None,         \n",
       "usage=CompletionUsage(completion_tokens=500, prompt_tokens=459, total_tokens=959))                                 \n",
       "</pre>\n"
      ],
      "text/plain": [
       "response=ChatCompletion(id='chatcmpl-VrrLFZnIWip1j2SbDo2ZnOs3NzzepjMA', choices=[Choice(finish_reason='stop',      \n",
       "index=0, logprobs=None, message=ChatCompletionMessage(content='### Title: Counting the Occurrences of 'r' in       \n",
       "'strawberry'\\n\\n#### Step 1: Identify the Target Word\\nThe target word for our analysis is 'strawberry'. This is   \n",
       "the word we will examine to determine the frequency of the letter 'r'.\\n\\n#### Step 2: Understand the Task\\nOur    \n",
       "task is to count how many times the letter 'r' appears in the word 'strawberry'. This is a simple character        \n",
       "frequency task within a given string of text.\\n\\n#### Step 3: Analyze the Word\\nWe will go through each letter in  \n",
       "'strawberry' one by one to see if it matches the target letter 'r'.\\n\\n#### Step 4: Count the Occurrences\\n- The   \n",
       "first letter is 's'. Not 'r', so we move to the next letter.\\n- The second letter is 't'. Not 'r', so we           \n",
       "continue.\\n- The third letter is 'r'. This matches our target letter, so we count one occurrence.\\n- The fourth    \n",
       "letter is 'a'. Not 'r', so we proceed.\\n- The fifth letter is 'w'. Not 'r', so we keep going.\\n- The sixth letter  \n",
       "is 'r'. Here we have another 'r', which adds to our count, making it two occurrences so far.\\n- The seventh letter \n",
       "is 'r' again. This is our third 'r', bringing the total count to three.\\n- The eighth letter is 'b'. Not 'r', so we\n",
       "continue.\\n- The ninth letter is 'e'. Not 'r', so we move forward.\\n- The tenth letter is 'r'. This is the fourth  \n",
       "occurrence of 'r' in the word.\\n\\n#### Step 5: Summarize the Findings\\nAfter analyzing each letter in 'strawberry',\n",
       "we have found that the letter 'r' appears four times within the word.\\n\\n#### Next Action\\nSince we have reached a \n",
       "conclusion, there is no need for further steps.\\n\\n#### Final Answer\\nThe word 'strawberry' contains four instances\n",
       "of the letter 'r'.\\n\\n```json\\n{\\n    \"title\": \"Counting the Occurrences of 'r' in 'strawberry'\",\\n    \"content\":  \n",
       "\"After analyzing each letter in 'straw', refusal=None, role='assistant', function_call=None, tool_calls=None))],   \n",
       "created=1727590579, model='default', object='chat.completion', service_tier=None, system_fingerprint=None,         \n",
       "usage=CompletionUsage(completion_tokens=500, prompt_tokens=459, total_tokens=959))                                 \n"
      ]
     },
     "metadata": {},
     "output_type": "display_data"
    },
    {
     "data": {
      "text/html": [
       "<pre style=\"white-space:pre;overflow-x:auto;line-height:normal;font-family:Menlo,'DejaVu Sans Mono',consolas,'Courier New',monospace\">response=ChatCompletion(id='chatcmpl-5F0nxYSrxKIRH2EyxxOSK5O50W2N1I4m', choices=[Choice(finish_reason='stop',      \n",
       "index=0, logprobs=None, message=ChatCompletionMessage(content='### Title: Counting the Letter 'r' in               \n",
       "'strawberry'\\n\\n#### Step 1: Identify the Target Letter\\nThe first step is to identify the specific letter we are  \n",
       "interested in counting within the word. In this case, the target letter is 'r'.\\n\\n#### Step 2: Examine the        \n",
       "Word\\nWe need to look at the word 'strawberry' and examine each letter to see if it matches our target letter. The \n",
       "word 'strawberry' consists of the following letters: s, t, r, a, w, b, e, r, r, r, y.\\n\\n#### Step 3: Count the    \n",
       "Occurrences of the Target Letter\\nNow that we have identified the target letter 'r' in the word 'strawberry', we   \n",
       "will count how many times it appears. By examining the word, we can see that the letter 'r' appears three          \n",
       "times.\\n\\n#### Next Action:\\nSince the question has been answered with a clear and logical process, there is no    \n",
       "need for further steps. The final answer is ready.\\n\\n<span style=\"color: #008080; text-decoration-color: #008080; background-color: #000000; font-weight: bold\">json\\n{\\n    \"title\": \"Counting the Letter \\'r\\' in </span>         \n",
       "<span style=\"color: #008080; text-decoration-color: #008080; background-color: #000000; font-weight: bold\">\\'strawberry\\'\",\\n    \"content\": \"The word \\'strawberry\\' contains the letter \\'r\\' three times.\",\\n    </span>           \n",
       "<span style=\"color: #008080; text-decoration-color: #008080; background-color: #000000; font-weight: bold\">\"next_action\": \"final_answer\"\\n}\\n</span>\\n\\nThis JSON response provides a clear and structured explanation of how the    \n",
       "count of the letter 'r' in the word 'strawberry' was determined, following the step-by-step reasoning process. The \n",
       "final answer is that there are three 'r's in the word 'strawberry'.&lt;|end|&gt;', refusal=None, role='assistant',       \n",
       "function_call=None, tool_calls=None))], created=1727590589, model='default', object='chat.completion',             \n",
       "service_tier=None, system_fingerprint=None, usage=CompletionUsage(completion_tokens=362, prompt_tokens=459,        \n",
       "total_tokens=821))                                                                                                 \n",
       "</pre>\n"
      ],
      "text/plain": [
       "response=ChatCompletion(id='chatcmpl-5F0nxYSrxKIRH2EyxxOSK5O50W2N1I4m', choices=[Choice(finish_reason='stop',      \n",
       "index=0, logprobs=None, message=ChatCompletionMessage(content='### Title: Counting the Letter 'r' in               \n",
       "'strawberry'\\n\\n#### Step 1: Identify the Target Letter\\nThe first step is to identify the specific letter we are  \n",
       "interested in counting within the word. In this case, the target letter is 'r'.\\n\\n#### Step 2: Examine the        \n",
       "Word\\nWe need to look at the word 'strawberry' and examine each letter to see if it matches our target letter. The \n",
       "word 'strawberry' consists of the following letters: s, t, r, a, w, b, e, r, r, r, y.\\n\\n#### Step 3: Count the    \n",
       "Occurrences of the Target Letter\\nNow that we have identified the target letter 'r' in the word 'strawberry', we   \n",
       "will count how many times it appears. By examining the word, we can see that the letter 'r' appears three          \n",
       "times.\\n\\n#### Next Action:\\nSince the question has been answered with a clear and logical process, there is no    \n",
       "need for further steps. The final answer is ready.\\n\\n\u001b[1;36;40mjson\\n{\\n    \"title\": \"Counting the Letter \\'r\\' in \u001b[0m         \n",
       "\u001b[1;36;40m\\'strawberry\\'\",\\n    \"content\": \"The word \\'strawberry\\' contains the letter \\'r\\' three times.\",\\n    \u001b[0m           \n",
       "\u001b[1;36;40m\"next_action\": \"final_answer\"\\n}\\n\u001b[0m\\n\\nThis JSON response provides a clear and structured explanation of how the    \n",
       "count of the letter 'r' in the word 'strawberry' was determined, following the step-by-step reasoning process. The \n",
       "final answer is that there are three 'r's in the word 'strawberry'.<|end|>', refusal=None, role='assistant',       \n",
       "function_call=None, tool_calls=None))], created=1727590589, model='default', object='chat.completion',             \n",
       "service_tier=None, system_fingerprint=None, usage=CompletionUsage(completion_tokens=362, prompt_tokens=459,        \n",
       "total_tokens=821))                                                                                                 \n"
      ]
     },
     "metadata": {},
     "output_type": "display_data"
    },
    {
     "data": {
      "text/html": [
       "<pre style=\"white-space:pre;overflow-x:auto;line-height:normal;font-family:Menlo,'DejaVu Sans Mono',consolas,'Courier New',monospace\">final response=ChatCompletion(id='chatcmpl-YLs8A9pxNMEG2fQ0s1CKFMtuFyrZVlcZ', choices=[Choice(finish_reason='stop',\n",
       "index=0, logprobs=None, message=ChatCompletionMessage(content=\"There are two 'r's in the word 'strawberry'.\\n\\nStep\n",
       "1: Identify the letters in the word 'strawberry'.\\nStep 2: Count the occurrences of the letter 'r'.\\nStep 3:       \n",
       "Confirm the count.\\n\\nFinal Answer: There are two 'r's in the word 'strawberry'.&lt;|end|&gt;\", refusal=None,            \n",
       "role='assistant', function_call=None, tool_calls=None))], created=1727590592, model='default',                     \n",
       "object='chat.completion', service_tier=None, system_fingerprint=None, usage=CompletionUsage(completion_tokens=79,  \n",
       "prompt_tokens=573, total_tokens=652))                                                                              \n",
       "</pre>\n"
      ],
      "text/plain": [
       "final response=ChatCompletion(id='chatcmpl-YLs8A9pxNMEG2fQ0s1CKFMtuFyrZVlcZ', choices=[Choice(finish_reason='stop',\n",
       "index=0, logprobs=None, message=ChatCompletionMessage(content=\"There are two 'r's in the word 'strawberry'.\\n\\nStep\n",
       "1: Identify the letters in the word 'strawberry'.\\nStep 2: Count the occurrences of the letter 'r'.\\nStep 3:       \n",
       "Confirm the count.\\n\\nFinal Answer: There are two 'r's in the word 'strawberry'.<|end|>\", refusal=None,            \n",
       "role='assistant', function_call=None, tool_calls=None))], created=1727590592, model='default',                     \n",
       "object='chat.completion', service_tier=None, system_fingerprint=None, usage=CompletionUsage(completion_tokens=79,  \n",
       "prompt_tokens=573, total_tokens=652))                                                                              \n"
      ]
     },
     "metadata": {},
     "output_type": "display_data"
    },
    {
     "data": {
      "text/html": [
       "<pre style=\"white-space:pre;overflow-x:auto;line-height:normal;font-family:Menlo,'DejaVu Sans Mono',consolas,'Courier New',monospace\">Failed to generate step after 3 attempts. Error: Expecting value: line 1 column 1 (char 0)                         \n",
       "</pre>\n"
      ],
      "text/plain": [
       "Failed to generate step after 3 attempts. Error: Expecting value: line 1 column 1 (char 0)                         \n"
      ]
     },
     "metadata": {},
     "output_type": "display_data"
    },
    {
     "data": {
      "text/html": [
       "<pre style=\"white-space:pre;overflow-x:auto;line-height:normal;font-family:Menlo,'DejaVu Sans Mono',consolas,'Courier New',monospace\">                                                   <span style=\"font-weight: bold\">Final Answer</span>                                                    \n",
       "</pre>\n"
      ],
      "text/plain": [
       "                                                   \u001b[1mFinal Answer\u001b[0m                                                    \n"
      ]
     },
     "metadata": {},
     "output_type": "display_data"
    },
    {
     "data": {
      "text/html": [
       "<pre style=\"white-space:pre;overflow-x:auto;line-height:normal;font-family:Menlo,'DejaVu Sans Mono',consolas,'Courier New',monospace\">\n",
       "\n",
       "\n",
       "\n",
       "\n",
       "\n",
       "There are two 'r's in the word 'strawberry'.Step 1: Identify the letters in the word 'strawberry'.Step 2: Count the\n",
       "occurrences of the letter 'r'.Step 3: Confirm the count.Final Answer: There are two 'r's in the word               \n",
       "'strawberry'.&lt;|end|&gt;                                                                                               \n",
       "</pre>\n"
      ],
      "text/plain": [
       "\n",
       "\n",
       "\n",
       "\n",
       "\n",
       "\n",
       "There are two 'r's in the word 'strawberry'.Step 1: Identify the letters in the word 'strawberry'.Step 2: Count the\n",
       "occurrences of the letter 'r'.Step 3: Confirm the count.Final Answer: There are two 'r's in the word               \n",
       "'strawberry'.<|end|>                                                                                               \n"
      ]
     },
     "metadata": {},
     "output_type": "display_data"
    },
    {
     "data": {
      "text/html": [
       "<pre style=\"white-space:pre;overflow-x:auto;line-height:normal;font-family:Menlo,'DejaVu Sans Mono',consolas,'Courier New',monospace\"><span style=\"font-weight: bold\">Total thinking time: 39.55 seconds</span>                                                                                 \n",
       "</pre>\n"
      ],
      "text/plain": [
       "\u001b[1mTotal thinking time: 39.55 seconds\u001b[0m                                                                                 \n"
      ]
     },
     "metadata": {},
     "output_type": "display_data"
    }
   ],
   "source": [
    "\n",
    "# user_query = \"How many Rs are in the word 'strawberry'?\"\n",
    "user_query = \"How many letter 'r' are in the word 'strawberry'?\"\n",
    "for steps, total_thinking_time in generate_response(user_query):\n",
    "    for i, (title, content, thinking_time) in enumerate(steps):\n",
    "        # Ensure content is a string\n",
    "        if not isinstance(content, str):\n",
    "            content = json.dumps(content)\n",
    "        if title.startswith(\"Final Answer\"):\n",
    "            print(f\"### {title}\")\n",
    "            if '```' in content:\n",
    "                parts = content.split('```')\n",
    "                for index, part in enumerate(parts):\n",
    "                    if index % 2 == 0:\n",
    "                        print(part)\n",
    "                    else:\n",
    "                        if '\\n' in part:\n",
    "                            lang_line, code = part.split('\\n', 1)\n",
    "                            lang = lang_line.strip()\n",
    "                        else:\n",
    "                            lang = ''\n",
    "                            code = part\n",
    "                        print(f\"```{lang}{code}```\")\n",
    "            else:\n",
    "                print(content.replace('\\n', '<br>'))\n",
    "        else:\n",
    "            print(content.replace('\\n', '<br>'))\n",
    "    \n",
    "    # Only show total time when it's available at the end\n",
    "    if total_thinking_time is not None:\n",
    "        print(f\"**Total thinking time: {total_thinking_time:.2f} seconds**\")"
   ]
  },
  {
   "cell_type": "code",
   "execution_count": null,
   "metadata": {},
   "outputs": [],
   "source": []
  }
 ],
 "metadata": {
  "kernelspec": {
   "display_name": "env-mlx",
   "language": "python",
   "name": "python3"
  },
  "language_info": {
   "codemirror_mode": {
    "name": "ipython",
    "version": 3
   },
   "file_extension": ".py",
   "mimetype": "text/x-python",
   "name": "python",
   "nbconvert_exporter": "python",
   "pygments_lexer": "ipython3",
   "version": "3.12.5"
  }
 },
 "nbformat": 4,
 "nbformat_minor": 2
}
