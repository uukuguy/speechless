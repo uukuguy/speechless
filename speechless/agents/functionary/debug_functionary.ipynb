{
 "cells": [
  {
   "cell_type": "markdown",
   "metadata": {},
   "source": [
    "# Debug Functionary\n",
    "\n",
    "[functionary](https://github.com/MeetKai/functionary)\n",
    "\n",
    "[functionary-small-v2.4-GGUF](https://huggingface.co/meetkai/functionary-small-v2.4-GGUF)\n",
    "\n",
    "重点是工具调用的函数定义，保证 LLM 将输出映射到函数说明，然后 LLM 获取参数值，构造具体的函数调用。\n",
    "\n",
    "LLM 的能力要求是映射函数名（依赖函数定义的语义匹配），并获得对应的参数值（LLM的自身能力，依赖函数参数的语义理解）。\n",
    "工程上工作重点是函数的说明以及参数的说明，有利于 LLM 进行语义匹配。"
   ]
  },
  {
   "cell_type": "markdown",
   "metadata": {},
   "source": [
    "## 模型"
   ]
  },
  {
   "cell_type": "code",
   "execution_count": 18,
   "metadata": {},
   "outputs": [
    {
     "name": "stderr",
     "output_type": "stream",
     "text": [
      "Special tokens have been added in the vocabulary, make sure the associated word embeddings are fine-tuned or trained.\n",
      "llama_model_loader: loaded meta data with 25 key-value pairs and 291 tensors from /opt/local/llm_models/GGUF/function-calling/meetkai/functionary-small-v2.4-GGUF/functionary-small-v2.4.Q8_0.gguf (version GGUF V3 (latest))\n",
      "llama_model_loader: Dumping metadata keys/values. Note: KV overrides do not apply in this output.\n",
      "llama_model_loader: - kv   0:                       general.architecture str              = llama\n",
      "llama_model_loader: - kv   1:                               general.name str              = .\n",
      "llama_model_loader: - kv   2:                           llama.vocab_size u32              = 32004\n",
      "llama_model_loader: - kv   3:                       llama.context_length u32              = 32768\n",
      "llama_model_loader: - kv   4:                     llama.embedding_length u32              = 4096\n",
      "llama_model_loader: - kv   5:                          llama.block_count u32              = 32\n",
      "llama_model_loader: - kv   6:                  llama.feed_forward_length u32              = 14336\n",
      "llama_model_loader: - kv   7:                 llama.rope.dimension_count u32              = 128\n",
      "llama_model_loader: - kv   8:                 llama.attention.head_count u32              = 32\n",
      "llama_model_loader: - kv   9:              llama.attention.head_count_kv u32              = 8\n",
      "llama_model_loader: - kv  10:     llama.attention.layer_norm_rms_epsilon f32              = 0.000010\n",
      "llama_model_loader: - kv  11:                       llama.rope.freq_base f32              = 1000000.000000\n",
      "llama_model_loader: - kv  12:                          general.file_type u32              = 7\n",
      "llama_model_loader: - kv  13:                       tokenizer.ggml.model str              = llama\n",
      "llama_model_loader: - kv  14:                      tokenizer.ggml.tokens arr[str,32004]   = [\"<unk>\", \"<s>\", \"</s>\", \"<0x00>\", \"<...\n",
      "llama_model_loader: - kv  15:                      tokenizer.ggml.scores arr[f32,32004]   = [0.000000, 0.000000, 0.000000, 0.0000...\n",
      "llama_model_loader: - kv  16:                  tokenizer.ggml.token_type arr[i32,32004]   = [2, 3, 3, 6, 6, 6, 6, 6, 6, 6, 6, 6, ...\n",
      "llama_model_loader: - kv  17:                tokenizer.ggml.bos_token_id u32              = 1\n",
      "llama_model_loader: - kv  18:                tokenizer.ggml.eos_token_id u32              = 2\n",
      "llama_model_loader: - kv  19:            tokenizer.ggml.unknown_token_id u32              = 0\n",
      "llama_model_loader: - kv  20:            tokenizer.ggml.padding_token_id u32              = 2\n",
      "llama_model_loader: - kv  21:               tokenizer.ggml.add_bos_token bool             = true\n",
      "llama_model_loader: - kv  22:               tokenizer.ggml.add_eos_token bool             = false\n",
      "llama_model_loader: - kv  23:                    tokenizer.chat_template str              = {% for message in messages %}\\n{% if m...\n",
      "llama_model_loader: - kv  24:               general.quantization_version u32              = 2\n",
      "llama_model_loader: - type  f32:   65 tensors\n",
      "llama_model_loader: - type q8_0:  226 tensors\n",
      "llm_load_vocab: special tokens definition check successful ( 263/32004 ).\n",
      "llm_load_print_meta: format           = GGUF V3 (latest)\n",
      "llm_load_print_meta: arch             = llama\n",
      "llm_load_print_meta: vocab type       = SPM\n",
      "llm_load_print_meta: n_vocab          = 32004\n",
      "llm_load_print_meta: n_merges         = 0\n",
      "llm_load_print_meta: n_ctx_train      = 32768\n",
      "llm_load_print_meta: n_embd           = 4096\n",
      "llm_load_print_meta: n_head           = 32\n",
      "llm_load_print_meta: n_head_kv        = 8\n",
      "llm_load_print_meta: n_layer          = 32\n",
      "llm_load_print_meta: n_rot            = 128\n",
      "llm_load_print_meta: n_embd_head_k    = 128\n",
      "llm_load_print_meta: n_embd_head_v    = 128\n",
      "llm_load_print_meta: n_gqa            = 4\n",
      "llm_load_print_meta: n_embd_k_gqa     = 1024\n",
      "llm_load_print_meta: n_embd_v_gqa     = 1024\n",
      "llm_load_print_meta: f_norm_eps       = 0.0e+00\n",
      "llm_load_print_meta: f_norm_rms_eps   = 1.0e-05\n",
      "llm_load_print_meta: f_clamp_kqv      = 0.0e+00\n",
      "llm_load_print_meta: f_max_alibi_bias = 0.0e+00\n",
      "llm_load_print_meta: f_logit_scale    = 0.0e+00\n",
      "llm_load_print_meta: n_ff             = 14336\n",
      "llm_load_print_meta: n_expert         = 0\n",
      "llm_load_print_meta: n_expert_used    = 0\n",
      "llm_load_print_meta: causal attn      = 1\n",
      "llm_load_print_meta: pooling type     = 0\n",
      "llm_load_print_meta: rope type        = 0\n",
      "llm_load_print_meta: rope scaling     = linear\n",
      "llm_load_print_meta: freq_base_train  = 1000000.0\n",
      "llm_load_print_meta: freq_scale_train = 1\n",
      "llm_load_print_meta: n_yarn_orig_ctx  = 32768\n",
      "llm_load_print_meta: rope_finetuned   = unknown\n",
      "llm_load_print_meta: ssm_d_conv       = 0\n",
      "llm_load_print_meta: ssm_d_inner      = 0\n",
      "llm_load_print_meta: ssm_d_state      = 0\n",
      "llm_load_print_meta: ssm_dt_rank      = 0\n",
      "llm_load_print_meta: model type       = 7B\n",
      "llm_load_print_meta: model ftype      = Q8_0\n",
      "llm_load_print_meta: model params     = 7.24 B\n",
      "llm_load_print_meta: model size       = 7.17 GiB (8.50 BPW) \n",
      "llm_load_print_meta: general.name     = .\n",
      "llm_load_print_meta: BOS token        = 1 '<s>'\n",
      "llm_load_print_meta: EOS token        = 2 '</s>'\n",
      "llm_load_print_meta: UNK token        = 0 '<unk>'\n",
      "llm_load_print_meta: PAD token        = 2 '</s>'\n",
      "llm_load_print_meta: LF token         = 13 '<0x0A>'\n",
      "llm_load_tensors: ggml ctx size =    0.22 MiB\n",
      "ggml_backend_metal_buffer_from_ptr: allocated buffer, size =  7205.88 MiB, (32537.92 / 98304.00)\n",
      "llm_load_tensors: offloading 32 repeating layers to GPU\n",
      "llm_load_tensors: offloading non-repeating layers to GPU\n",
      "llm_load_tensors: offloaded 33/33 layers to GPU\n",
      "llm_load_tensors:        CPU buffer size =   132.83 MiB\n",
      "llm_load_tensors:      Metal buffer size =  7205.86 MiB\n",
      "...................................................................................................\n",
      "llama_new_context_with_model: n_ctx      = 512\n",
      "llama_new_context_with_model: n_batch    = 512\n",
      "llama_new_context_with_model: n_ubatch   = 512\n",
      "llama_new_context_with_model: freq_base  = 1000000.0\n",
      "llama_new_context_with_model: freq_scale = 1\n",
      "ggml_metal_init: allocating\n",
      "ggml_metal_init: found device: Apple M3 Max\n",
      "ggml_metal_init: picking default device: Apple M3 Max\n",
      "ggml_metal_init: using embedded metal library\n",
      "ggml_metal_init: GPU name:   Apple M3 Max\n",
      "ggml_metal_init: GPU family: MTLGPUFamilyApple9  (1009)\n",
      "ggml_metal_init: GPU family: MTLGPUFamilyCommon3 (3003)\n",
      "ggml_metal_init: GPU family: MTLGPUFamilyMetal3  (5001)\n",
      "ggml_metal_init: simdgroup reduction support   = true\n",
      "ggml_metal_init: simdgroup matrix mul. support = true\n",
      "ggml_metal_init: hasUnifiedMemory              = true\n",
      "ggml_metal_init: recommendedMaxWorkingSetSize  = 103079.22 MB\n",
      "ggml_backend_metal_buffer_type_alloc_buffer: allocated buffer, size =    64.00 MiB, (32601.92 / 98304.00)\n",
      "llama_kv_cache_init:      Metal KV buffer size =    64.00 MiB\n",
      "llama_new_context_with_model: KV self size  =   64.00 MiB, K (f16):   32.00 MiB, V (f16):   32.00 MiB\n",
      "llama_new_context_with_model:        CPU  output buffer size =     0.12 MiB\n",
      "ggml_backend_metal_buffer_type_alloc_buffer: allocated buffer, size =    81.02 MiB, (32682.94 / 98304.00)\n",
      "llama_new_context_with_model:      Metal compute buffer size =    81.00 MiB\n",
      "llama_new_context_with_model:        CPU compute buffer size =     9.01 MiB\n",
      "llama_new_context_with_model: graph nodes  = 1030\n",
      "llama_new_context_with_model: graph splits = 2\n",
      "AVX = 0 | AVX_VNNI = 0 | AVX2 = 0 | AVX512 = 0 | AVX512_VBMI = 0 | AVX512_VNNI = 0 | FMA = 0 | NEON = 1 | ARM_FMA = 1 | F16C = 0 | FP16_VA = 1 | WASM_SIMD = 0 | BLAS = 1 | SSE3 = 0 | SSSE3 = 0 | VSX = 0 | MATMUL_INT8 = 0 | \n",
      "Model metadata: {'general.quantization_version': '2', 'tokenizer.chat_template': '{% for message in messages %}\\n{% if message[\\'role\\'] == \\'user\\' or message[\\'role\\'] == \\'system\\' %}\\n{{ \\'<|from|>\\' + message[\\'role\\'] + \\'\\n<|recipient|>all\\n<|content|>\\' + message[\\'content\\'] + \\'\\n\\' }}{% elif message[\\'role\\'] == \\'tool\\' %}\\n{{ \\'<|from|>\\' + message[\\'name\\'] + \\'\\n<|recipient|>all\\n<|content|>\\' + message[\\'content\\'] + \\'\\n\\' }}{% else %}\\n{% set contain_content=\\'no\\'%}\\n{% if message[\\'content\\'] is not none %}\\n{{ \\'<|from|>assistant\\n<|recipient|>all\\n<|content|>\\' + message[\\'content\\'] }}{% set contain_content=\\'yes\\'%}\\n{% endif %}\\n{% if \\'tool_calls\\' in message and message[\\'tool_calls\\'] is not none %}\\n{% for tool_call in message[\\'tool_calls\\'] %}\\n{% set prompt=\\'<|from|>assistant\\n<|recipient|>\\' + tool_call[\\'function\\'][\\'name\\'] + \\'\\n<|content|>\\' + tool_call[\\'function\\'][\\'arguments\\'] %}\\n{% if loop.index == 1 and contain_content == \"no\" %}\\n{{ prompt }}{% else %}\\n{{ \\'\\n\\' + prompt}}{% endif %}\\n{% endfor %}\\n{% endif %}\\n{{ \\'<|stop|>\\n\\' }}{% endif %}\\n{% endfor %}\\n{% if add_generation_prompt %}{{ \\'<|from|>assistant\\n<|recipient|>\\' }}{% endif %}', 'tokenizer.ggml.add_eos_token': 'false', 'tokenizer.ggml.add_bos_token': 'true', 'tokenizer.ggml.padding_token_id': '2', 'tokenizer.ggml.unknown_token_id': '0', 'tokenizer.ggml.eos_token_id': '2', 'tokenizer.ggml.bos_token_id': '1', 'tokenizer.ggml.model': 'llama', 'llama.attention.head_count_kv': '8', 'llama.context_length': '32768', 'llama.attention.head_count': '32', 'llama.rope.freq_base': '1000000.000000', 'llama.rope.dimension_count': '128', 'general.file_type': '7', 'llama.feed_forward_length': '14336', 'llama.block_count': '32', 'llama.embedding_length': '4096', 'general.architecture': 'llama', 'llama.attention.layer_norm_rms_epsilon': '0.000010', 'general.name': '.', 'llama.vocab_size': '32004'}\n",
      "ggml_metal_free: deallocating\n"
     ]
    }
   ],
   "source": [
    "from llama_cpp import Llama\n",
    "from llama_cpp.llama_tokenizer import LlamaHFTokenizer\n",
    "FUNCTION_CALLING_MODELS_DIR = \"/opt/local/llm_models/GGUF/function-calling\"\n",
    "# ---------- functionary-small-v2.4-GGUF ----------\n",
    "FUNCTIONARY_MODELS_DIR=f\"{FUNCTION_CALLING_MODELS_DIR}/meetkai/functionary-small-v2.4-GGUF\"\n",
    "model_path=f\"{FUNCTIONARY_MODELS_DIR}/functionary-small-v2.4.Q8_0.gguf\"\n",
    "# ---------- functionary-medium-v2.4-GGUF ----------\n",
    "# FUNCTIONARY_MODELS_DIR=f\"{FUNCTION_CALLING_MODELS_DIR}/meetkai/functionary-medium-v2.4-GGUF\"\n",
    "# model_path=f\"{FUNCTIONARY_MODELS_DIR}/functionary-medium-v2.4.Q4_0.gguf\"\n",
    "\n",
    "llm = Llama(\n",
    "    model_path=model_path,\n",
    "    chat_format=\"functionary-v2\",\n",
    "    tokenizer=LlamaHFTokenizer.from_pretrained(FUNCTIONARY_MODELS_DIR),\n",
    "    n_gpu_layers=-1\n",
    ")"
   ]
  },
  {
   "cell_type": "markdown",
   "metadata": {},
   "source": [
    "## llama.cpp 推理"
   ]
  },
  {
   "cell_type": "code",
   "execution_count": 22,
   "metadata": {},
   "outputs": [
    {
     "name": "stderr",
     "output_type": "stream",
     "text": [
      "Llama.generate: prefix-match hit\n",
      "\n",
      "llama_print_timings:        load time =    9983.66 ms\n",
      "llama_print_timings:      sample time =       0.84 ms /     8 runs   (    0.10 ms per token,  9535.16 tokens per second)\n",
      "llama_print_timings: prompt eval time =     365.51 ms /   119 tokens (    3.07 ms per token,   325.57 tokens per second)\n",
      "llama_print_timings:        eval time =     175.13 ms /     7 runs   (   25.02 ms per token,    39.97 tokens per second)\n",
      "llama_print_timings:       total time =     566.01 ms /   126 tokens\n",
      "from_string grammar:\n",
      "space ::= space_1 \n",
      "space_1 ::= [ ] | \n",
      "string ::= [\"] string_5 [\"] space \n",
      "string_3 ::= [^\"\\] | [\\] string_4 \n",
      "string_4 ::= [\"\\/bfnrt] | [u] [0-9a-fA-F] [0-9a-fA-F] [0-9a-fA-F] [0-9a-fA-F] \n",
      "string_5 ::= string_3 string_5 | \n",
      "root ::= [{] space [\"] [l] [o] [c] [a] [t] [i] [o] [n] [\"] space [:] space string [}] space \n",
      "\n",
      "Llama.generate: prefix-match hit\n"
     ]
    },
    {
     "name": "stdout",
     "output_type": "stream",
     "text": [
      "space ::= \" \"?\n",
      "string ::=  \"\\\"\" (\n",
      "        [^\"\\\\] |\n",
      "        \"\\\\\" ([\"\\\\/bfnrt] | \"u\" [0-9a-fA-F] [0-9a-fA-F] [0-9a-fA-F] [0-9a-fA-F])\n",
      "      )* \"\\\"\" space \n",
      "root ::= \"{\" space \"\\\"location\\\"\" space \":\" space string \"}\" space\n"
     ]
    },
    {
     "name": "stderr",
     "output_type": "stream",
     "text": [
      "\n",
      "llama_print_timings:        load time =    9983.66 ms\n",
      "llama_print_timings:      sample time =      34.00 ms /     9 runs   (    3.78 ms per token,   264.72 tokens per second)\n",
      "llama_print_timings: prompt eval time =       0.00 ms /     1 tokens (    0.00 ms per token,      inf tokens per second)\n",
      "llama_print_timings:        eval time =     224.84 ms /     9 runs   (   24.98 ms per token,    40.03 tokens per second)\n",
      "llama_print_timings:       total time =     283.72 ms /    10 tokens\n",
      "Llama.generate: prefix-match hit\n",
      "\n",
      "llama_print_timings:        load time =    9983.66 ms\n",
      "llama_print_timings:      sample time =       0.09 ms /     1 runs   (    0.09 ms per token, 11494.25 tokens per second)\n",
      "llama_print_timings: prompt eval time =      69.53 ms /     7 tokens (    9.93 ms per token,   100.67 tokens per second)\n",
      "llama_print_timings:        eval time =       0.00 ms /     1 runs   (    0.00 ms per token,      inf tokens per second)\n",
      "llama_print_timings:       total time =      72.26 ms /     8 tokens\n"
     ]
    },
    {
     "name": "stdout",
     "output_type": "stream",
     "text": [
      "{'role': 'assistant', 'content': None, 'tool_calls': [{'id': 'call_CY3RhcPcDGkbu7m44TzwAuiU', 'type': 'function', 'function': {'name': 'get_weapon_stats', 'arguments': '{\"location\": \"福州\"}'}}], 'function_call': {'name': 'get_weapon_stats', 'arguments': '{\"location\": \"福州\"}'}}\n"
     ]
    }
   ],
   "source": [
    "\n",
    "messages = [\n",
    "    # {\"role\": \"user\", \"content\": \"what's the weather like in Hanoi?\"}\n",
    "    # {\"role\": \"user\", \"content\": \"今天北京天气如何？\"}\n",
    "    {\"role\": \"user\", \"content\": \"福州武器装备情况如何？\"}\n",
    "]\n",
    "tools = [ # For functionary-7b-v2 we use \"tools\"; for functionary-7b-v1.4 we use \"functions\" = [{\"name\": \"get_current_weather\", \"description\":..., \"parameters\": ....}]\n",
    "    {\n",
    "        \"type\": \"function\",\n",
    "        \"function\": {\n",
    "            \"name\": \"get_current_weather\",\n",
    "            \"description\": \"Get the current weather\",\n",
    "            \"parameters\": {\n",
    "                \"type\": \"object\",\n",
    "                \"properties\": {\n",
    "                    \"location\": {\n",
    "                        \"type\": \"string\",\n",
    "                        \"description\": \"The city and state, e.g., San Francisco, CA\"\n",
    "                    }\n",
    "                },\n",
    "                \"required\": [\"location\"]\n",
    "            }\n",
    "        }\n",
    "    },\n",
    "    {\n",
    "        \"type\": \"function\",\n",
    "        \"function\": {\n",
    "            \"name\": \"get_weapon_stats\",\n",
    "            \"description\": \"Get the weapon stats\",\n",
    "            \"parameters\": {\n",
    "                \"type\": \"object\",\n",
    "                \"properties\": {\n",
    "                    \"location\": {\n",
    "                        \"type\": \"string\",\n",
    "                        \"description\": \"The city and state, e.g., San Francisco, CA\"\n",
    "                    }\n",
    "                },\n",
    "                \"required\": [\"location\"]\n",
    "            }\n",
    "        }\n",
    "    }\n",
    "]\n",
    "\n",
    "result = llm.create_chat_completion(\n",
    "      messages = messages,\n",
    "      tools=tools,\n",
    "      tool_choice=\"auto\",\n",
    ")\n",
    "\n",
    "print(result[\"choices\"][0][\"message\"])"
   ]
  },
  {
   "cell_type": "code",
   "execution_count": 23,
   "metadata": {},
   "outputs": [
    {
     "data": {
      "text/plain": [
       "{'id': 'chatcmpl-e5223824-35de-42c0-a276-af1fab6bdc8f',\n",
       " 'object': 'chat.completion',\n",
       " 'created': 1713348541,\n",
       " 'model': '/opt/local/llm_models/GGUF/function-calling/meetkai/functionary-small-v2.4-GGUF/functionary-small-v2.4.Q8_0.gguf',\n",
       " 'choices': [{'index': 0,\n",
       "   'logprobs': None,\n",
       "   'message': {'role': 'assistant',\n",
       "    'content': None,\n",
       "    'tool_calls': [{'id': 'call_CY3RhcPcDGkbu7m44TzwAuiU',\n",
       "      'type': 'function',\n",
       "      'function': {'name': 'get_weapon_stats',\n",
       "       'arguments': '{\"location\": \"福州\"}'}}],\n",
       "    'function_call': {'name': 'get_weapon_stats',\n",
       "     'arguments': '{\"location\": \"福州\"}'}},\n",
       "   'finish_reason': 'tool_calls'}],\n",
       " 'usage': {'prompt_tokens': 204, 'completion_tokens': 1, 'total_tokens': 205}}"
      ]
     },
     "execution_count": 23,
     "metadata": {},
     "output_type": "execute_result"
    }
   ],
   "source": [
    "result"
   ]
  },
  {
   "cell_type": "markdown",
   "metadata": {},
   "source": [
    "## 模型微调\n",
    "\n",
    "是否具备领域适配能力？\n",
    "\n",
    "https://github.com/MeetKai/functionary/tree/main/functionary/train"
   ]
  },
  {
   "cell_type": "markdown",
   "metadata": {},
   "source": [
    "### "
   ]
  },
  {
   "cell_type": "markdown",
   "metadata": {},
   "source": [
    "### Chat Template\n",
    "\n",
    "From functionary-small-v2.4-GGUF/tokenizer_config.json"
   ]
  },
  {
   "cell_type": "code",
   "execution_count": null,
   "metadata": {},
   "outputs": [],
   "source": [
    "\"{% for message in messages %}\\n{% if message['role'] == 'user' or message['role'] == 'system' %}\\n{{ '<|from|>' + message['role'] + '\\n<|recipient|>all\\n<|content|>' + message['content'] + '\\n' }}{% elif message['role'] == 'tool' %}\\n{{ '<|from|>' + message['name'] + '\\n<|recipient|>all\\n<|content|>' + message['content'] + '\\n' }}{% else %}\\n{% set contain_content='no'%}\\n{% if message['content'] is not none %}\\n{{ '<|from|>assistant\\n<|recipient|>all\\n<|content|>' + message['content'] }}{% set contain_content='yes'%}\\n{% endif %}\\n{% if 'tool_calls' in message and message['tool_calls'] is not none %}\\n{% for tool_call in message['tool_calls'] %}\\n{% set prompt='<|from|>assistant\\n<|recipient|>' + tool_call['function']['name'] + '\\n<|content|>' + tool_call['function']['arguments'] %}\\n{% if loop.index == 1 and contain_content == \\\"no\\\" %}\\n{{ prompt }}{% else %}\\n{{ '\\n' + prompt}}{% endif %}\\n{% endfor %}\\n{% endif %}\\n{{ '<|stop|>\\n' }}{% endif %}\\n{% endfor %}\\n{% if add_generation_prompt %}{{ '<|from|>assistant\\n<|recipient|>' }}{% endif %}\","
   ]
  },
  {
   "cell_type": "code",
   "execution_count": null,
   "metadata": {},
   "outputs": [],
   "source": [
    "{% for message in messages %}\n",
    "    {% if message['role'] == 'user' or message['role'] == 'system' %}\n",
    "        {{ '<|from|>' + message['role'] + '\\n<|recipient|>all\\n<|content|>' + message['content'] + '\\n' }}\n",
    "    {% elif message['role'] == 'tool' %}\n",
    "        {{ '<|from|>' + message['name'] + '\\n<|recipient|>all\\n<|content|>' + message['content'] + '\\n' }}\n",
    "    {% else %}\n",
    "        {% set contain_content='no'%}\n",
    "        {% if message['content'] is not none %}\n",
    "            {{ '<|from|>assistant\\n<|recipient|>all\\n<|content|>' + message['content'] }}\n",
    "            {% set contain_content='yes'%}\n",
    "        {% endif %}\n",
    "        {% if 'tool_calls' in message and message['tool_calls'] is not none %}\n",
    "            {% for tool_call in message['tool_calls'] %}\n",
    "                {% set prompt='<|from|>assistant\\n<|recipient|>' + tool_call['function']['name'] + '\\n<|content|>' + tool_call['function']['arguments'] %}\n",
    "                {% if loop.index == 1 and contain_content == \\\"no\\\" %}\n",
    "                    {{ prompt }}\n",
    "                {% else %}\n",
    "                    {{ '\\n' + prompt}}\n",
    "                {% endif %}\n",
    "            {% endfor %}\n",
    "        {% endif %}\n",
    "        {{ '<|stop|>\\n' }}\n",
    "    {% endif %}\n",
    "{% endfor %}\n",
    "{% if add_generation_prompt %}\n",
    "    {{ '<|from|>assistant\\n<|recipient|>' }}\n",
    "{% endif %}"
   ]
  }
 ],
 "metadata": {
  "kernelspec": {
   "display_name": "m1max-llm",
   "language": "python",
   "name": "python3"
  },
  "language_info": {
   "codemirror_mode": {
    "name": "ipython",
    "version": 3
   },
   "file_extension": ".py",
   "mimetype": "text/x-python",
   "name": "python",
   "nbconvert_exporter": "python",
   "pygments_lexer": "ipython3",
   "version": "3.11.0"
  }
 },
 "nbformat": 4,
 "nbformat_minor": 2
}
