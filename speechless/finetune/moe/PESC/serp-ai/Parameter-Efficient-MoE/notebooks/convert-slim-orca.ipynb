{
 "cells": [
  {
   "cell_type": "code",
   "execution_count": null,
   "metadata": {},
   "outputs": [],
   "source": [
    "import os\n",
    "import json\n",
    "dset_path = \"../data/oo-labeled_correct.gpt4.sharegpt.jsonl\" # https://huggingface.co/datasets/Open-Orca/SlimOrca/tree/main\n",
    "target_path = \"../data/example.json\"\n",
    "output_path = \"../data/slimorca.json\""
   ]
  },
  {
   "cell_type": "code",
   "execution_count": null,
   "metadata": {},
   "outputs": [],
   "source": [
    "data = []\n",
    "with open(dset_path, \"r\", encoding=\"utf-8\") as f:\n",
    "    for line in f:\n",
    "        data.append(json.loads(line))"
   ]
  },
  {
   "cell_type": "code",
   "execution_count": null,
   "metadata": {},
   "outputs": [],
   "source": [
    "with open(target_path, \"r\", encoding=\"utf-8\") as f:\n",
    "    target = json.load(f)"
   ]
  },
  {
   "cell_type": "code",
   "execution_count": null,
   "metadata": {},
   "outputs": [],
   "source": [
    "data[0]"
   ]
  },
  {
   "cell_type": "code",
   "execution_count": null,
   "metadata": {},
   "outputs": [],
   "source": [
    "target[0]"
   ]
  },
  {
   "cell_type": "code",
   "execution_count": null,
   "metadata": {},
   "outputs": [],
   "source": [
    "def convert_to_target_format(data):\n",
    "    target_data = []\n",
    "\n",
    "    for example in data:\n",
    "        # Extract the 'system' message for the instruction, default to '' if not present\n",
    "        instruction = next((item['value'] for item in example['conversations'] if item['from'] == 'system'), '')\n",
    "\n",
    "        # Extract the 'human' and 'gpt' messages for input and output\n",
    "        input_message = next((item['value'] for item in example['conversations'] if item['from'] == 'human'), '')\n",
    "        output_message = next((item['value'] for item in example['conversations'] if item['from'] == 'gpt'), '')\n",
    "\n",
    "        # Construct the target format for this example\n",
    "        target_example = {\n",
    "            'corpus': '',\n",
    "            'dataset': 'slimorca',\n",
    "            'instruction': instruction,\n",
    "            'conversation': [\n",
    "                {\n",
    "                    'input': input_message,\n",
    "                    'output': output_message\n",
    "                }\n",
    "            ]\n",
    "        }\n",
    "\n",
    "        # Add the converted example to the target data list\n",
    "        target_data.append(target_example)\n",
    "\n",
    "    return target_data"
   ]
  },
  {
   "cell_type": "code",
   "execution_count": null,
   "metadata": {},
   "outputs": [],
   "source": [
    "converted_data = convert_to_target_format(data)"
   ]
  },
  {
   "cell_type": "code",
   "execution_count": null,
   "metadata": {},
   "outputs": [],
   "source": [
    "converted_data[0]"
   ]
  },
  {
   "cell_type": "code",
   "execution_count": null,
   "metadata": {},
   "outputs": [],
   "source": [
    "with open(output_path, \"w\", encoding=\"utf-8\") as f:\n",
    "    f.write(json.dumps(converted_data, indent=4))"
   ]
  }
 ],
 "metadata": {
  "kernelspec": {
   "display_name": "Python 3",
   "language": "python",
   "name": "python3"
  },
  "language_info": {
   "codemirror_mode": {
    "name": "ipython",
    "version": 3
   },
   "file_extension": ".py",
   "mimetype": "text/x-python",
   "name": "python",
   "nbconvert_exporter": "python",
   "pygments_lexer": "ipython3",
   "version": "3.10.8"
  }
 },
 "nbformat": 4,
 "nbformat_minor": 2
}
