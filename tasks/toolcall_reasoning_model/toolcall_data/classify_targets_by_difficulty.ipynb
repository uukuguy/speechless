{
 "cells": [
  {
   "cell_type": "markdown",
   "metadata": {},
   "source": [
    "# Classify Data by Difficulty"
   ]
  },
  {
   "cell_type": "code",
   "execution_count": 2,
   "metadata": {},
   "outputs": [],
   "source": [
    "%load_ext autoreload\n",
    "%autoreload 2"
   ]
  },
  {
   "cell_type": "code",
   "execution_count": 3,
   "metadata": {},
   "outputs": [],
   "source": [
    "import json, re, os, sys\n",
    "from tqdm import tqdm\n",
    "from loguru import logger"
   ]
  },
  {
   "cell_type": "code",
   "execution_count": 25,
   "metadata": {},
   "outputs": [],
   "source": [
    "results_file = \"./results_b/round_results-b_20250316_3_1.jsonl\"\n",
    "easy_data_file = results_file.replace(\".jsonl\", \"_easy_data.jsonl\")\n",
    "medium_data_file = results_file.replace(\".jsonl\", \"_medium_data.jsonl\")\n",
    "hard_data_file = results_file.replace(\".jsonl\", \"_hard_data.jsonl\")"
   ]
  },
  {
   "cell_type": "code",
   "execution_count": 28,
   "metadata": {},
   "outputs": [],
   "source": [
    "results_file = \"./results_a/round_results-a_20250316_2.jsonl\"\n",
    "easy_data_file = results_file.replace(\".jsonl\", \"_easy_data.jsonl\")\n",
    "medium_data_file = results_file.replace(\".jsonl\", \"_medium_data.jsonl\")\n",
    "hard_data_file = results_file.replace(\".jsonl\", \"_hard_data.jsonl\")"
   ]
  },
  {
   "cell_type": "code",
   "execution_count": 29,
   "metadata": {},
   "outputs": [
    {
     "name": "stdout",
     "output_type": "stream",
     "text": [
      "easy_data: 365\n",
      "medium_data: 0\n",
      "hard_data: 606\n"
     ]
    }
   ],
   "source": [
    "\n",
    "from classify_targets_by_difficulty import classify_targets_by_difficulty\n",
    "\n",
    "easy_data, medium_data, hard_data = classify_targets_by_difficulty(results_file)\n",
    "\n",
    "print(f\"easy_data: {len(easy_data)}\")\n",
    "print(f\"medium_data: {len(medium_data)}\")\n",
    "print(f\"hard_data: {len(hard_data)}\")"
   ]
  },
  {
   "cell_type": "code",
   "execution_count": 30,
   "metadata": {},
   "outputs": [
    {
     "name": "stdout",
     "output_type": "stream",
     "text": [
      "Saved 365 easy_data to ./results_a/round_results-a_20250316_2_easy_data.jsonl\n",
      "Saved 0 medium_data to ./results_a/round_results-a_20250316_2_medium_data.jsonl\n",
      "Saved 606 hard_data to ./results_a/round_results-a_20250316_2_hard_data.jsonl\n"
     ]
    }
   ],
   "source": [
    "with open(easy_data_file, \"w\") as f:\n",
    "    for item in easy_data:\n",
    "        f.write(json.dumps(item, ensure_ascii=False) + \"\\n\")\n",
    "print(f\"Saved {len(easy_data)} easy_data to {easy_data_file}\")\n",
    "\n",
    "with open(medium_data_file, \"w\") as f:\n",
    "    for item in medium_data:\n",
    "        f.write(json.dumps(item, ensure_ascii=False) + \"\\n\")\n",
    "print(f\"Saved {len(medium_data)} medium_data to {medium_data_file}\")\n",
    "\n",
    "with open(hard_data_file, \"w\") as f:\n",
    "    for item in hard_data:\n",
    "        f.write(json.dumps(item, ensure_ascii=False) + \"\\n\")\n",
    "print(f\"Saved {len(hard_data)} hard_data to {hard_data_file}\")"
   ]
  },
  {
   "cell_type": "code",
   "execution_count": null,
   "metadata": {},
   "outputs": [],
   "source": []
  }
 ],
 "metadata": {
  "kernelspec": {
   "display_name": "env-mlx",
   "language": "python",
   "name": "python3"
  },
  "language_info": {
   "codemirror_mode": {
    "name": "ipython",
    "version": 3
   },
   "file_extension": ".py",
   "mimetype": "text/x-python",
   "name": "python",
   "nbconvert_exporter": "python",
   "pygments_lexer": "ipython3",
   "version": "3.12.5"
  }
 },
 "nbformat": 4,
 "nbformat_minor": 2
}
