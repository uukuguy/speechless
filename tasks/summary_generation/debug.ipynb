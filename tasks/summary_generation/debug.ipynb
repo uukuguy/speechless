{
 "cells": [
  {
   "cell_type": "markdown",
   "metadata": {},
   "source": [
    "# Summary Generation for AMiner"
   ]
  },
  {
   "cell_type": "code",
   "execution_count": 14,
   "metadata": {},
   "outputs": [],
   "source": [
    "%reload_ext autoreload\n",
    "%autoreload 2"
   ]
  },
  {
   "cell_type": "code",
   "execution_count": 27,
   "metadata": {},
   "outputs": [
    {
     "data": {
      "text/plain": [
       "{'paper_num': 17942,\n",
       " 'chunk_num': 151816,\n",
       " 'track_stats': {'total_track_nums': 49,\n",
       "  'track_counts': {'Conf_Paper_Meta_Data_SIGIR2023_with_whole_text.db': 656,\n",
       "   'Journal_Paper_Meta_Data_IEEE_Transactions_on_Pattern_Analysis_and_Machine_Intelligence_with_whole_text.db': 3275,\n",
       "   'Conf_Paper_Meta_Data_NeurIPS_2023_with_whole_text.db': 950,\n",
       "   'Conf_Paper_Meta_Data_AAAI_2023_with_whole_text.db': 523,\n",
       "   'Conf_Paper_Meta_Data_IJCAI2024_with_whole_text.db': 2583,\n",
       "   'Conf_Paper_Meta_Data_EMNLP_2023_with_whole_text.db': 4938,\n",
       "   'Conf_Paper_Meta_Data_ICML2024_with_whole_text.db': 5623,\n",
       "   'Journal_Paper_Meta_Data_IEEE_Transactions_on_Knowledge_and_Data_Engineering_with_whole_text.db': 901,\n",
       "   'Conf_Paper_Meta_Data_ICLR2024_with_whole_text.db': 13174,\n",
       "   'Conf_Paper_Meta_Data_WWW_2023__with_whole_text.db': 1557,\n",
       "   'Conf_Paper_Meta_Data_IJCAI2023_with_whole_text.db': 2188,\n",
       "   'Conf_Paper_Meta_Data_ECCV2024_with_whole_text.db': 13649,\n",
       "   'Conf_Paper_Meta_Data_SIGIR2024_with_whole_text.db': 1140,\n",
       "   'Conf_Paper_Meta_Data_ICML_2023_with_whole_text.db': 139,\n",
       "   'Journal_Paper_Meta_Data_Journal_of_Machine_Learning_Research_with_whole_text.db': 489,\n",
       "   'Journal_Paper_Meta_Data_Artificial_Intelligence_with_whole_text.db': 446,\n",
       "   'Conf_Paper_Meta_Data_AAAI2024_with_whole_text.db': 11539,\n",
       "   'Conf_Paper_Meta_Data_CVPR_2023_with_whole_text.db': 12242,\n",
       "   'Journal_Paper_Meta_Data_International_Journal_of_Computer_Vision_with_whole_text.db': 434,\n",
       "   'Conf_Paper_Meta_Data_ACL_2023_with_whole_text.db': 4943,\n",
       "   'Conf_Paper_Meta_Data_ICLR_2023_with_whole_text.db': 7290,\n",
       "   'Conf_Paper_Meta_Data_ICCV_2023_with_whole_text.db': 10389,\n",
       "   'Conf_Paper_Meta_Data_CVPR2024_with_whole_text.db': 10804,\n",
       "   'Conf_Paper_Meta_Data_ACL_2022_Annual_Meeting_of_the_Association_for_Computational_Linguistics_with_whole_text.db': 2811,\n",
       "   'Conf_Paper_Meta_Data_ECAI_2023_with_whole_text.db': 482,\n",
       "   'Conf_Paper_Meta_Data_Crypto_2023_with_whole_text.db': 261,\n",
       "   'Conf_Paper_Meta_Data_CCS_2022_with_whole_text.db': 710,\n",
       "   'Conf_Paper_Meta_Data_ECCV_2022_European_Conference_on_Computer_Vision_with_whole_text.db': 4539,\n",
       "   'Conf_Paper_Meta_Data_Crypto_2022_with_whole_text.db': 46,\n",
       "   'Conf_Paper_Meta_Data_CVPR_2022_IEEE_Conference_on_Computer_Vision_and_Pattern_Recognition_with_whole_text.db': 1304,\n",
       "   'Conf_Paper_Meta_Data_EMNLP_2022_Empirical_Methods_in_Natural_Language_Processing_with_whole_text.db': 3079,\n",
       "   'Conf_Paper_Meta_Data_ICML_2022_International_Conference_on_Machine_Learning_with_whole_text.db': 4336,\n",
       "   'Conf_Paper_Meta_Data_ICLR_2022_International_Conference_on_Learning_Representation_with_whole_text.db': 3000,\n",
       "   'Conf_Paper_Meta_Data_ISSTA_2022_with_whole_text.db': 111,\n",
       "   'Conf_Paper_Meta_Data_IJCAI_2022_International_Joint_Conference_on_Artificial_Intelligence_with_whole_text.db': 916,\n",
       "   'Conf_Paper_Meta_Data_MobiCom_2023_with_whole_text.db': 602,\n",
       "   'Conf_Paper_Meta_Data_NeurIPS_2022_Neural_Information_Processing_Systems_with_whole_text.db': 12416,\n",
       "   'Conf_Paper_Meta_Data_KDD2023_with_whole_text.db': 1710,\n",
       "   'Conf_Paper_Meta_Data_SIGIR_2022_Special_Interest_Group_on_Information_Retrieval_with_whole_text.db': 528,\n",
       "   'Conf_Paper_Meta_Data__STOC_2022_with_whole_text.db': 961,\n",
       "   'Conf_Paper_Meta_Data_SP_2022_with_whole_text.db': 397,\n",
       "   'Conf_Paper_Meta_Data_SIGMOD_2023_with_whole_text.db': 9,\n",
       "   'Conf_Paper_Meta_Data_USENIX_Security_2023_with_whole_text.db': 460,\n",
       "   'Conf_Paper_Meta_Data_SP_2023_with_whole_text.db': 335,\n",
       "   'Conf_Paper_Meta_Data_VLDB2023_with_whole_text.db': 111,\n",
       "   'Conf_Paper_Meta_Data_USENIX_Security_2022_with_whole_text.db': 668,\n",
       "   'Conf_Paper_Meta_Data_STOC_2023_with_whole_text.db': 1167,\n",
       "   'Conf_Paper_Meta_Data_VLDB_2022_with_whole_text.db': 215,\n",
       "   'Conf_Paper_Meta_Data_WWW_2022_The_Web_Conference_with_whole_text.db': 770}}}"
      ]
     },
     "execution_count": 27,
     "metadata": {},
     "output_type": "execute_result"
    }
   ],
   "source": [
    "from knowledge_base import KnowledgeBase\n",
    "kb = KnowledgeBase()\n",
    "metadata = kb.metadata()\n",
    "metadata"
   ]
  },
  {
   "cell_type": "code",
   "execution_count": 30,
   "metadata": {},
   "outputs": [
    {
     "name": "stdout",
     "output_type": "stream",
     "text": [
      "kb.search_paper() return 30 chunks.\n",
      "kb.query_by_paper_id() return 5 chunks.\n",
      "kb.query_by_title() return 7 chunks.\n",
      "kb.query_by_title_contain() return 23 chunks.\n",
      "kb.query_by_chunk_contain() return 48 chunks.\n"
     ]
    }
   ],
   "source": [
    "kb.test()"
   ]
  },
  {
   "cell_type": "code",
   "execution_count": null,
   "metadata": {},
   "outputs": [],
   "source": []
  }
 ],
 "metadata": {
  "kernelspec": {
   "display_name": "env-mlx",
   "language": "python",
   "name": "python3"
  },
  "language_info": {
   "codemirror_mode": {
    "name": "ipython",
    "version": 3
   },
   "file_extension": ".py",
   "mimetype": "text/x-python",
   "name": "python",
   "nbconvert_exporter": "python",
   "pygments_lexer": "ipython3",
   "version": "3.12.5"
  }
 },
 "nbformat": 4,
 "nbformat_minor": 2
}
